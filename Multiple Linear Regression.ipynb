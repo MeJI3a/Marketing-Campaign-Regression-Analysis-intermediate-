{
 "cells": [
  {
   "cell_type": "code",
   "execution_count": 1,
   "id": "c6677309-88a2-4d93-8c00-635048d92a74",
   "metadata": {},
   "outputs": [
    {
     "name": "stdout",
     "output_type": "stream",
     "text": [
      "   id      c_date    campaign_name    category  campaign_id  impressions  \\\n",
      "0   1  2021-02-01   facebook_tier1      social       349043       148263   \n",
      "1   2  2021-02-01   facebOOK_tier2      social       348934       220688   \n",
      "2   3  2021-02-01       google_hot      search     89459845        22850   \n",
      "3   4  2021-02-01      google_wide      search       127823       147038   \n",
      "4   5  2021-02-01  youtube_blogger  influencer        10934       225800   \n",
      "\n",
      "   mark_spent  clicks  leads  orders  revenue  \n",
      "0     7307.37    1210     13       1   4981.0  \n",
      "1    16300.20    1640     48       3  14962.0  \n",
      "2     5221.60     457      9       1   7981.0  \n",
      "3     6037.00    1196     24       1   2114.0  \n",
      "4    29962.20    2258     49      10  84490.0  \n"
     ]
    }
   ],
   "source": [
    "import pandas as pd\n",
    "import numpy as np\n",
    "import pandas as pd\n",
    "import numpy as np\n",
    "from sklearn.model_selection import train_test_split\n",
    "from sklearn.linear_model import LinearRegression\n",
    "from sklearn.metrics import mean_squared_error, mean_absolute_error, r2_score\n",
    "df = pd.read_csv(r\"C:\\Users\\Zana\\Desktop\\portfolio_projects\\project_3\\cleaned_marketing.csv\")\n",
    "print(df.head())"
   ]
  },
  {
   "cell_type": "markdown",
   "id": "0d5f9c1c-6dc4-4f6f-bfe1-176ac171ec80",
   "metadata": {},
   "source": [
    "# 3. Multiple Linear Regression\n",
    "\n",
    "## Objective\n",
    "The model is extended by adding additional predictors, including `impressions`, `clicks`, and `leads`, to improve the accuracy of predicting revenue. This approach provides a better understanding of how multiple marketing factors influence revenue.\n",
    "\n",
    "## Key Predictors:\n",
    "- **Impressions**: Number of times the ad was displayed.\n",
    "- **Clicks**: Number of times users clicked on the ad.\n",
    "- **Leads**: Number of potential customers generated.\n",
    "\n",
    "## Expected Outcome:\n",
    "Including these variables will likely result in a more accurate and comprehensive model, offering deeper insights into the relationship between various marketing efforts and revenue generation."
   ]
  },
  {
   "cell_type": "code",
   "execution_count": 2,
   "id": "6a581af7-7fc8-40ab-8dd8-5d187f166294",
   "metadata": {},
   "outputs": [
    {
     "name": "stdout",
     "output_type": "stream",
     "text": [
      "R-squared: 0.6027850969370833\n",
      "RMSE: 216439.42317133193\n",
      "MAE: 89750.8820959516\n"
     ]
    }
   ],
   "source": [
    "# Include additional predictors: 'impressions', 'clicks', and 'leads'\n",
    "X = df[['mark_spent', 'impressions', 'clicks', 'leads']]  # Independent variables\n",
    "y = df['revenue']  # Dependent variable (revenue)\n",
    "\n",
    "# Split the data into training and testing sets\n",
    "X_train, X_test, y_train, y_test = train_test_split(X, y, test_size=0.3, random_state=42)\n",
    "\n",
    "# Create and train the multiple linear regression model\n",
    "model = LinearRegression()\n",
    "model.fit(X_train, y_train)\n",
    "\n",
    "# Make predictions on the test set\n",
    "y_pred = model.predict(X_test)\n",
    "\n",
    "# Evaluate the model using R-squared, RMSE, and MAE\n",
    "r_squared = r2_score(y_test, y_pred)\n",
    "rmse = np.sqrt(mean_squared_error(y_test, y_pred))\n",
    "mae = mean_absolute_error(y_test, y_pred)\n",
    "\n",
    "# Output the evaluation metrics\n",
    "print(f'R-squared: {r_squared}')\n",
    "print(f'RMSE: {rmse}')\n",
    "print(f'MAE: {mae}')"
   ]
  },
  {
   "cell_type": "markdown",
   "id": "991270cf-b1fc-421f-9056-c9a5bd79d327",
   "metadata": {},
   "source": [
    "# Model Evaluation Summary\n",
    "\n",
    "## Simple Linear Regression:\n",
    "- **R-squared**: 0.576 – The model explains 57.6% of the variance in revenue using `mark_spent`.\n",
    "- **RMSE**: 223,586.20 – The model’s predictions deviate from actual revenue by an average of 223,586.\n",
    "- **MAE**: 92,960.24 – The average absolute error between predicted and actual revenue is 92,960.\n",
    "\n",
    "## Multiple Linear Regression:\n",
    "- **R-squared**: 0.603 – The model explains 60.3% of the variance in revenue using `mark_spent`, `impressions`, `clicks`, and `leads`.\n",
    "- **RMSE**: 216,439.42 – The model’s predictions deviate from actual revenue by an average of 216,439.\n",
    "- **MAE**: 89,750.88 – The average absolute error between predicted and actual revenue is 89,750.\n",
    "\n",
    "## Conclusion:\n",
    "The multiple linear regression model offers a slight improvement over the simple linear regression model. By including more variables (`impressions`, `clicks`, and `leads`), the model better explains the variance in revenue\n"
   ]
  },
  {
   "cell_type": "code",
   "execution_count": null,
   "id": "5d87e037-d16f-41e1-a905-6205afbf7f12",
   "metadata": {},
   "outputs": [],
   "source": []
  }
 ],
 "metadata": {
  "kernelspec": {
   "display_name": "Python 3 (ipykernel)",
   "language": "python",
   "name": "python3"
  },
  "language_info": {
   "codemirror_mode": {
    "name": "ipython",
    "version": 3
   },
   "file_extension": ".py",
   "mimetype": "text/x-python",
   "name": "python",
   "nbconvert_exporter": "python",
   "pygments_lexer": "ipython3",
   "version": "3.12.5"
  }
 },
 "nbformat": 4,
 "nbformat_minor": 5
}
