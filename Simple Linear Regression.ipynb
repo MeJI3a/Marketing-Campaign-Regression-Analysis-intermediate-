{
 "cells": [
  {
   "cell_type": "code",
   "execution_count": 4,
   "id": "d9b2a79c-9451-445a-877d-1b7a882e2b61",
   "metadata": {},
   "outputs": [
    {
     "name": "stdout",
     "output_type": "stream",
     "text": [
      "   id      c_date    campaign_name    category  campaign_id  impressions  \\\n",
      "0   1  2021-02-01   facebook_tier1      social       349043       148263   \n",
      "1   2  2021-02-01   facebOOK_tier2      social       348934       220688   \n",
      "2   3  2021-02-01       google_hot      search     89459845        22850   \n",
      "3   4  2021-02-01      google_wide      search       127823       147038   \n",
      "4   5  2021-02-01  youtube_blogger  influencer        10934       225800   \n",
      "\n",
      "   mark_spent  clicks  leads  orders  revenue  \n",
      "0     7307.37    1210     13       1   4981.0  \n",
      "1    16300.20    1640     48       3  14962.0  \n",
      "2     5221.60     457      9       1   7981.0  \n",
      "3     6037.00    1196     24       1   2114.0  \n",
      "4    29962.20    2258     49      10  84490.0  \n"
     ]
    }
   ],
   "source": [
    "import pandas as pd\n",
    "import numpy as np\n",
    "import pandas as pd\n",
    "import numpy as np\n",
    "from sklearn.model_selection import train_test_split\n",
    "from sklearn.linear_model import LinearRegression\n",
    "from sklearn.metrics import mean_squared_error, mean_absolute_error, r2_score\n",
    "df = pd.read_csv(r\"C:\\Users\\Zana\\Desktop\\portfolio_projects\\project_3\\cleaned_marketing.csv\")\n",
    "print(df.head())"
   ]
  },
  {
   "cell_type": "markdown",
   "id": "67680f53-d39a-4a8a-bce6-cadf597af030",
   "metadata": {},
   "source": [
    "# 2. Simple Linear Regression\n",
    "\n",
    "In this step, we will build a simple linear regression model using the variable `mark_spent` to predict `revenue`. The model will be evaluated using key performance metrics.\n",
    "\n",
    "## Key Points:\n",
    "- **Objective**: Determine the impact of marketing spend on revenue.\n",
    "- **Evaluation Metrics**: We will use R-squared, RMSE, and MAE to assess the model's accuracy.\n"
   ]
  },
  {
   "cell_type": "code",
   "execution_count": 5,
   "id": "67a02563-2ac0-4925-be60-860eebb463c2",
   "metadata": {},
   "outputs": [
    {
     "name": "stdout",
     "output_type": "stream",
     "text": [
      "R-squared: 0.5761201463930175\n",
      "RMSE: 223586.196704492\n",
      "MAE: 92960.24282430112\n"
     ]
    }
   ],
   "source": [
    "# Focus only on 'mark_spent' to predict 'revenue'\n",
    "X = df[['mark_spent']]  # Independent variable (mark_spent)\n",
    "y = df['revenue']  # Dependent variable (revenue)\n",
    "\n",
    "# Split the data into training and testing sets\n",
    "X_train, X_test, y_train, y_test = train_test_split(X, y, test_size=0.3, random_state=42)\n",
    "\n",
    "# Create the linear regression model\n",
    "model = LinearRegression()\n",
    "\n",
    "# Train the model on the training data\n",
    "model.fit(X_train, y_train)\n",
    "\n",
    "# Make predictions on the test set\n",
    "y_pred = model.predict(X_test)\n",
    "\n",
    "# Evaluate the model using R-squared, RMSE, and MAE\n",
    "r_squared = r2_score(y_test, y_pred)\n",
    "rmse = np.sqrt(mean_squared_error(y_test, y_pred))\n",
    "mae = mean_absolute_error(y_test, y_pred)\n",
    "\n",
    "# Output the evaluation metrics\n",
    "print(f'R-squared: {r_squared}')\n",
    "print(f'RMSE: {rmse}')\n",
    "print(f'MAE: {mae}')"
   ]
  },
  {
   "cell_type": "markdown",
   "id": "856ef28c-7340-401e-86a4-ed19d6581134",
   "metadata": {},
   "source": [
    "# Simple Linear Regression Summary\n",
    "\n",
    "## Objective\n",
    "This analysis aims to determine the impact of marketing spend (`mark_spent`) on revenue through a simple linear regression model.\n",
    "\n",
    "## Key Results:\n",
    "- **R-squared**: 0.576 – The model explains 57.6% of the variance in revenue using marketing spend.\n",
    "- **RMSE**: 223,586.20 – On average, the model's revenue predictions deviate from actual values by 223,586.\n",
    "- **MAE**: 92,960.24 – The average absolute error between predicted and actual revenue is 92,960.\n",
    "\n",
    "## Conclusion:\n",
    "The simple linear regression model shows a moderate relationship between marketing spend and revenue. Further analysis with additional features may improve the model's accuracy."
   ]
  },
  {
   "cell_type": "code",
   "execution_count": null,
   "id": "a82ebf6c-1890-47e2-8d69-a24c7e9738c2",
   "metadata": {},
   "outputs": [],
   "source": []
  }
 ],
 "metadata": {
  "kernelspec": {
   "display_name": "Python 3 (ipykernel)",
   "language": "python",
   "name": "python3"
  },
  "language_info": {
   "codemirror_mode": {
    "name": "ipython",
    "version": 3
   },
   "file_extension": ".py",
   "mimetype": "text/x-python",
   "name": "python",
   "nbconvert_exporter": "python",
   "pygments_lexer": "ipython3",
   "version": "3.12.5"
  }
 },
 "nbformat": 4,
 "nbformat_minor": 5
}
